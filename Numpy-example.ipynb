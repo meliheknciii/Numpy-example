{
 "cells": [
  {
   "cell_type": "code",
   "execution_count": 3,
   "id": "600eece0-4dd8-4904-b9ab-aa150734ebcd",
   "metadata": {
    "tags": []
   },
   "outputs": [],
   "source": [
    "# -1000 ile 1000 arasında bir array oluşturun. rastgele olsun 200 elemanlı \n",
    "# bunun içinden çift olanları ve pozitif olanları bulun. ve her elemanın karesini hesaplayın \n",
    "# bunun içinden tek ve 3 ile bölümünden kalan 0  olanları bulun  ve her elemanın logaritmasının hesaplayın (10 tabanında)"
   ]
  },
  {
   "cell_type": "code",
   "execution_count": 1,
   "id": "047bdb0a-030a-4a7d-b811-d5793d6bd56b",
   "metadata": {},
   "outputs": [],
   "source": [
    "import numpy as np"
   ]
  },
  {
   "cell_type": "code",
   "execution_count": 4,
   "id": "71a80d7a-54e2-425c-b27d-69f651cca590",
   "metadata": {
    "tags": []
   },
   "outputs": [
    {
     "data": {
      "text/plain": [
       "array([-117,  173, -824,  577, -970, -404,  -17, -560,  943,  986,   -5,\n",
       "         17, -701, -589,  828, -512,   13,  523, -168, -119,   42,  -46,\n",
       "       -467,  214, -626, -584,  549,  271,  -35, -602,  151, -160,  144,\n",
       "        408,  640,  161,  797,  746,  880,  374, -305,  241, -162,  677,\n",
       "        800,  456, -744, -755, -727, -922, -162,  -22,  693,  962, -671,\n",
       "        936, -647, -522, -112, -943,  891, -812, -481,  939,  453, -148,\n",
       "        424,  201,  934,  792, -412, -940, -128,  831,  917, -547,  695,\n",
       "        675, -429, -294,  444,  799,  107,  872, -471,  878,  526, -940,\n",
       "       -576,  123,  388,   10,   34, -141, -305,  782,  331, -637, -240,\n",
       "        800,  708,  630, -699,  469,  653, -547, -989, -172,  613, -167,\n",
       "       -131, -340,  554, -511,  668,  252,   53, -732, -634,  542,  599,\n",
       "        -47,  511,  487, -900, -193, -681, -565,  123, -173, -278,  879,\n",
       "          1,  689, -973, -676,  397,  931,  739, -594, -845,  280,  834,\n",
       "        323,  870, -692,  212,   64, -683,  294, -534, -546,  466,  718,\n",
       "       -543,  820, -897, -955, -610, -784,  735, -338,  676,  204,  443,\n",
       "        -52,   -6, -766,  192,  410, -524,   58, -109,    9, -653, -705,\n",
       "        677, -694, -268, -102, -314,  384, -439,  474,  190,  837,  700,\n",
       "        595, -199,  896,  520,   38,  -43,  695,  267, -838,  325,  394,\n",
       "       -274, -658])"
      ]
     },
     "execution_count": 4,
     "metadata": {},
     "output_type": "execute_result"
    }
   ],
   "source": [
    "# -1000 ile 1000 arasında dizi oluşturmak \n",
    "arr = np.random.randint(-1000,1000,size = 200)\n",
    "arr"
   ]
  },
  {
   "cell_type": "code",
   "execution_count": null,
   "id": "1f42527e-3d9d-4013-847d-9dc434932bd7",
   "metadata": {},
   "outputs": [],
   "source": []
  }
 ],
 "metadata": {
  "kernelspec": {
   "display_name": "Python 3 (ipykernel)",
   "language": "python",
   "name": "python3"
  },
  "language_info": {
   "codemirror_mode": {
    "name": "ipython",
    "version": 3
   },
   "file_extension": ".py",
   "mimetype": "text/x-python",
   "name": "python",
   "nbconvert_exporter": "python",
   "pygments_lexer": "ipython3",
   "version": "3.11.4"
  }
 },
 "nbformat": 4,
 "nbformat_minor": 5
}
